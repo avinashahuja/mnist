{
 "cells": [
  {
   "cell_type": "code",
   "execution_count": 4,
   "id": "ac03f72d",
   "metadata": {
    "_cell_guid": "b1076dfc-b9ad-4769-8c92-a6c4dae69d19",
    "_uuid": "8f2839f25d086af736a60e9eeb907d3b93b6e0e5",
    "papermill": {
     "duration": 0.030301,
     "end_time": "2023-05-09T15:24:00.833038",
     "exception": false,
     "start_time": "2023-05-09T15:24:00.802737",
     "status": "completed"
    },
    "tags": []
   },
   "outputs": [],
   "source": [
    "# This Python 3 environment comes with many helpful analytics libraries installed\n",
    "# It is defined by the kaggle/python Docker image: https://github.com/kaggle/docker-python\n",
    "# For example, here's several helpful packages to load\n",
    "\n",
    "import numpy as np # linear algebra\n",
    "import pandas as pd # data processing, CSV file I/O (e.g. pd.read_csv)\n",
    "\n",
    "# Input data files are available in the read-only \"../input/\" directory\n",
    "# For example, running this (by clicking run or pressing Shift+Enter) will list all files under the input directory\n",
    "\n",
    "import os\n",
    "for dirname, _, filenames in os.walk('/kaggle/input'):\n",
    "    for filename in filenames:\n",
    "        print(os.path.join(dirname, filename))\n",
    "\n",
    "# You can write up to 20GB to the current directory (/kaggle/working/) that gets preserved as output when you create a version using \"Save & Run All\" \n",
    "# You can also write temporary files to /kaggle/temp/, but they won't be saved outside of the current session"
   ]
  },
  {
   "cell_type": "code",
   "execution_count": 5,
   "id": "02a22807",
   "metadata": {},
   "outputs": [
    {
     "data": {
      "text/plain": [
       "[PhysicalDevice(name='/physical_device:CPU:0', device_type='CPU'),\n",
       " PhysicalDevice(name='/physical_device:GPU:0', device_type='GPU'),\n",
       " PhysicalDevice(name='/physical_device:GPU:1', device_type='GPU')]"
      ]
     },
     "metadata": {},
     "output_type": "display_data"
    }
   ],
   "source": [
    "import tensorflow as tf\n",
    "display(tf.config.list_physical_devices())"
   ]
  },
  {
   "cell_type": "code",
   "execution_count": 6,
   "id": "1b1e669f",
   "metadata": {
    "papermill": {
     "duration": 6.046846,
     "end_time": "2023-05-09T15:24:06.885837",
     "exception": false,
     "start_time": "2023-05-09T15:24:00.838991",
     "status": "completed"
    },
    "tags": []
   },
   "outputs": [],
   "source": [
    "# train = pd.read_csv('data/train.csv')\n",
    "# test = pd.read_csv('data/test.csv')"
   ]
  },
  {
   "cell_type": "code",
   "execution_count": 7,
   "id": "3af1cd53",
   "metadata": {
    "papermill": {
     "duration": 1.215113,
     "end_time": "2023-05-09T15:24:08.106697",
     "exception": false,
     "start_time": "2023-05-09T15:24:06.891584",
     "status": "completed"
    },
    "tags": []
   },
   "outputs": [],
   "source": [
    "from sklearn.model_selection import train_test_split\n",
    "# y_train = train.label\n",
    "# X_train = train.loc[:, train.columns != 'label']"
   ]
  },
  {
   "cell_type": "code",
   "execution_count": 8,
   "id": "76a28afc",
   "metadata": {
    "papermill": {
     "duration": 8.288449,
     "end_time": "2023-05-09T15:24:16.401096",
     "exception": false,
     "start_time": "2023-05-09T15:24:08.112647",
     "status": "completed"
    },
    "tags": []
   },
   "outputs": [],
   "source": [
    "import keras\n",
    "from keras.models import Sequential\n",
    "from keras.layers import Conv2D,MaxPooling2D,Dense,Flatten,Dropout\n",
    "from keras.optimizers import Adam\n",
    "from keras.callbacks import TensorBoard\n",
    "num_classes = 10\n",
    "# epochs = 20"
   ]
  },
  {
   "cell_type": "code",
   "execution_count": 9,
   "id": "1302cf7e",
   "metadata": {
    "papermill": {
     "duration": 4.501352,
     "end_time": "2023-05-09T15:24:20.908134",
     "exception": false,
     "start_time": "2023-05-09T15:24:16.406782",
     "status": "completed"
    },
    "tags": []
   },
   "outputs": [],
   "source": [
    "train_df = pd.read_csv('data/train.csv')\n",
    "test_df = pd.read_csv('data/test.csv')\n",
    "train_data = np.array(train_df, dtype = 'float32')\n",
    "test_data = np.array(test_df, dtype='float32')"
   ]
  },
  {
   "cell_type": "code",
   "execution_count": 10,
   "id": "e8bf618e",
   "metadata": {
    "papermill": {
     "duration": 0.018228,
     "end_time": "2023-05-09T15:24:20.932524",
     "exception": false,
     "start_time": "2023-05-09T15:24:20.914296",
     "status": "completed"
    },
    "tags": []
   },
   "outputs": [
    {
     "data": {
      "text/plain": [
       "(42000, 785)"
      ]
     },
     "execution_count": 10,
     "metadata": {},
     "output_type": "execute_result"
    }
   ],
   "source": [
    "train_data.shape"
   ]
  },
  {
   "cell_type": "code",
   "execution_count": 11,
   "id": "a7b4267c",
   "metadata": {
    "papermill": {
     "duration": 0.506281,
     "end_time": "2023-05-09T15:24:21.444564",
     "exception": false,
     "start_time": "2023-05-09T15:24:20.938283",
     "status": "completed"
    },
    "tags": []
   },
   "outputs": [],
   "source": [
    "x_train = train_data[:,1:]/255\n",
    "y_train = train_data[:,0]\n",
    "x_test= test_data[:]/255\n",
    "\n",
    "x_train,x_validate,y_train,y_validate = train_test_split(x_train,y_train,test_size = 0.2,random_state = 12345)"
   ]
  },
  {
   "cell_type": "code",
   "execution_count": 14,
   "id": "69ec54ef",
   "metadata": {
    "papermill": {
     "duration": 0.016202,
     "end_time": "2023-05-09T15:24:21.466610",
     "exception": false,
     "start_time": "2023-05-09T15:24:21.450408",
     "status": "completed"
    },
    "tags": []
   },
   "outputs": [],
   "source": [
    "image_rows = 28\n",
    "image_cols = 28\n",
    "batch_size = 4096\n",
    "image_shape = (image_rows,image_cols,1) "
   ]
  },
  {
   "cell_type": "code",
   "execution_count": 15,
   "id": "62eb14f6",
   "metadata": {
    "papermill": {
     "duration": 0.016617,
     "end_time": "2023-05-09T15:24:21.489421",
     "exception": false,
     "start_time": "2023-05-09T15:24:21.472804",
     "status": "completed"
    },
    "tags": []
   },
   "outputs": [
    {
     "name": "stdout",
     "output_type": "stream",
     "text": [
      "(33600, 784)\n",
      "(28000, 784)\n"
     ]
    }
   ],
   "source": [
    "print(x_train.shape)\n",
    "print(x_test.shape)"
   ]
  },
  {
   "cell_type": "code",
   "execution_count": 29,
   "id": "696d9ae9",
   "metadata": {
    "papermill": {
     "duration": 0.016081,
     "end_time": "2023-05-09T15:24:21.511113",
     "exception": false,
     "start_time": "2023-05-09T15:24:21.495032",
     "status": "completed"
    },
    "tags": []
   },
   "outputs": [
    {
     "data": {
      "text/plain": [
       "(33600, 28, 28, 1)"
      ]
     },
     "execution_count": 29,
     "metadata": {},
     "output_type": "execute_result"
    }
   ],
   "source": [
    "x_train = x_train.reshape(-1,*image_shape)\n",
    "x_train.shape"
   ]
  },
  {
   "cell_type": "code",
   "execution_count": 19,
   "id": "a7b73a9c",
   "metadata": {
    "papermill": {
     "duration": 0.016264,
     "end_time": "2023-05-09T15:24:21.533201",
     "exception": false,
     "start_time": "2023-05-09T15:24:21.516937",
     "status": "completed"
    },
    "tags": []
   },
   "outputs": [],
   "source": [
    "x_train = x_train.reshape(-1,*image_shape)\n",
    "x_test = x_test.reshape(-1,*image_shape)\n",
    "x_validate = x_validate.reshape(-1,*image_shape)"
   ]
  },
  {
   "cell_type": "code",
   "execution_count": 54,
   "id": "6b69cf63",
   "metadata": {},
   "outputs": [],
   "source": [
    "cnn_model_al = Sequential([\n",
    "    # CONVOLUTIONAL PART\n",
    "    Conv2D(filters=16,kernel_size=3,activation='relu',input_shape = image_shape),\n",
    "    MaxPooling2D(pool_size=2) ,# down sampling the output instead of 28*28 it is 14*14\n",
    "    Dropout(0.2),\n",
    "    \n",
    "    #LINEAR PART\n",
    "    Flatten(), # flatten out the layers\n",
    "    Dense(32,activation='relu'),\n",
    "    Dense(10,activation = 'softmax')\n",
    "    \n",
    "])\n",
    "\n",
    "cnn_model_al.compile(loss ='sparse_categorical_crossentropy', optimizer=Adam(lr=0.001),metrics =['accuracy'])"
   ]
  },
  {
   "cell_type": "code",
   "execution_count": 47,
   "id": "e832f065",
   "metadata": {},
   "outputs": [
    {
     "name": "stderr",
     "output_type": "stream",
     "text": [
      "/usr/local/lib/python3.8/dist-packages/keras/optimizers/legacy/adam.py:117: UserWarning: The `lr` argument is deprecated, use `learning_rate` instead.\n",
      "  super().__init__(name, **kwargs)\n"
     ]
    }
   ],
   "source": [
    "\n",
    "cnn_model_small = Sequential([\n",
    "    Conv2D(filters=16,kernel_size=3,activation='relu',input_shape = image_shape),\n",
    "    MaxPooling2D(pool_size=2) ,# down sampling the output instead of 28*28 it is 14*14\n",
    "    Dropout(0.2),\n",
    "    \n",
    "    Conv2D(filters=32,kernel_size=3,activation='relu',input_shape = image_shape),\n",
    "    MaxPooling2D(pool_size=2) ,# down sampling the output instead of 14 -> 7\n",
    "    Dropout(0.3),\n",
    "    \n",
    "    Conv2D(filters=64,kernel_size=3,activation='relu',input_shape = image_shape),\n",
    "    MaxPooling2D(pool_size=2) ,# down sampling the output instead of 7 -> 3 or 4\n",
    "    Dropout(0.4),\n",
    "    \n",
    "    Flatten(), # flatten out the layers\n",
    "    \n",
    "\n",
    "    Dense(128,activation='relu'),\n",
    "    Dense(64,activation='relu'),\n",
    "    Dense(32,activation='relu'),\n",
    "    Dense(10,activation = 'softmax')\n",
    "    \n",
    "])\n",
    "\n",
    "cnn_model_small.compile(loss ='sparse_categorical_crossentropy', optimizer=Adam(lr=0.001),metrics =['accuracy'])"
   ]
  },
  {
   "cell_type": "code",
   "execution_count": 45,
   "id": "6a8783f0",
   "metadata": {},
   "outputs": [
    {
     "name": "stdout",
     "output_type": "stream",
     "text": [
      "Epoch 1/10\n",
      "1/1 [==============================] - 3s 3s/step - loss: 0.0160 - accuracy: 0.9948 - val_loss: 0.0591 - val_accuracy: 0.9843\n",
      "Epoch 2/10\n",
      "1/1 [==============================] - 3s 3s/step - loss: 0.0164 - accuracy: 0.9949 - val_loss: 0.0590 - val_accuracy: 0.9843\n",
      "Epoch 3/10\n",
      "1/1 [==============================] - 3s 3s/step - loss: 0.0162 - accuracy: 0.9949 - val_loss: 0.0589 - val_accuracy: 0.9844\n",
      "Epoch 4/10\n",
      "1/1 [==============================] - 3s 3s/step - loss: 0.0159 - accuracy: 0.9952 - val_loss: 0.0588 - val_accuracy: 0.9843\n",
      "Epoch 5/10\n",
      "1/1 [==============================] - 3s 3s/step - loss: 0.0167 - accuracy: 0.9945 - val_loss: 0.0588 - val_accuracy: 0.9843\n",
      "Epoch 6/10\n",
      "1/1 [==============================] - 3s 3s/step - loss: 0.0157 - accuracy: 0.9949 - val_loss: 0.0587 - val_accuracy: 0.9843\n",
      "Epoch 7/10\n",
      "1/1 [==============================] - 3s 3s/step - loss: 0.0158 - accuracy: 0.9952 - val_loss: 0.0586 - val_accuracy: 0.9843\n",
      "Epoch 8/10\n",
      "1/1 [==============================] - 3s 3s/step - loss: 0.0164 - accuracy: 0.9949 - val_loss: 0.0586 - val_accuracy: 0.9843\n",
      "Epoch 9/10\n",
      "1/1 [==============================] - 3s 3s/step - loss: 0.0161 - accuracy: 0.9947 - val_loss: 0.0585 - val_accuracy: 0.9843\n",
      "Epoch 10/10\n",
      "1/1 [==============================] - 3s 3s/step - loss: 0.0159 - accuracy: 0.9947 - val_loss: 0.0584 - val_accuracy: 0.9843\n"
     ]
    }
   ],
   "source": [
    "with tf.device('/CPU:0'):\n",
    "    history = cnn_model_al.fit(\n",
    "        x_train,\n",
    "        y_train,\n",
    "        batch_size=100000,\n",
    "        epochs=10,\n",
    "        verbose=1,\n",
    "        validation_data=(x_validate,y_validate),\n",
    "    )"
   ]
  },
  {
   "cell_type": "code",
   "execution_count": 55,
   "id": "06637bc7",
   "metadata": {},
   "outputs": [
    {
     "name": "stdout",
     "output_type": "stream",
     "text": [
      "Epoch 1/10\n",
      "7/9 [======================>.......] - ETA: 0s - loss: 2.1407 - accuracy: 0.3642"
     ]
    },
    {
     "name": "stderr",
     "output_type": "stream",
     "text": [
      "2023-05-12 19:51:21.945489: E tensorflow/core/grappler/optimizers/meta_optimizer.cc:1014] layout failed: INVALID_ARGUMENT: Size of values 0 does not match size of permutation 4 @ fanin shape insequential_7/dropout_11/dropout/SelectV2-2-TransposeNHWCToNCHW-LayoutOptimizer\n"
     ]
    },
    {
     "name": "stdout",
     "output_type": "stream",
     "text": [
      "9/9 [==============================] - 0s 24ms/step - loss: 2.0955 - accuracy: 0.3946 - val_loss: 1.7373 - val_accuracy: 0.5925\n",
      "Epoch 2/10\n",
      "9/9 [==============================] - 0s 11ms/step - loss: 1.4994 - accuracy: 0.6452 - val_loss: 1.1556 - val_accuracy: 0.7400\n",
      "Epoch 3/10\n",
      "9/9 [==============================] - 0s 12ms/step - loss: 0.9745 - accuracy: 0.7701 - val_loss: 0.7463 - val_accuracy: 0.8164\n",
      "Epoch 4/10\n",
      "9/9 [==============================] - 0s 12ms/step - loss: 0.6481 - accuracy: 0.8321 - val_loss: 0.5284 - val_accuracy: 0.8581\n",
      "Epoch 5/10\n",
      "9/9 [==============================] - 0s 12ms/step - loss: 0.4818 - accuracy: 0.8688 - val_loss: 0.4164 - val_accuracy: 0.8864\n",
      "Epoch 6/10\n",
      "9/9 [==============================] - 0s 12ms/step - loss: 0.3945 - accuracy: 0.8905 - val_loss: 0.3545 - val_accuracy: 0.9023\n",
      "Epoch 7/10\n",
      "9/9 [==============================] - 0s 12ms/step - loss: 0.3444 - accuracy: 0.9017 - val_loss: 0.3153 - val_accuracy: 0.9108\n",
      "Epoch 8/10\n",
      "9/9 [==============================] - 0s 12ms/step - loss: 0.3114 - accuracy: 0.9112 - val_loss: 0.2894 - val_accuracy: 0.9189\n",
      "Epoch 9/10\n",
      "9/9 [==============================] - 0s 11ms/step - loss: 0.2865 - accuracy: 0.9181 - val_loss: 0.2681 - val_accuracy: 0.9245\n",
      "Epoch 10/10\n",
      "9/9 [==============================] - 0s 11ms/step - loss: 0.2671 - accuracy: 0.9241 - val_loss: 0.2522 - val_accuracy: 0.9277\n"
     ]
    }
   ],
   "source": [
    "with tf.device('/GPU:0'):\n",
    "    history = cnn_model_al.fit(\n",
    "        x_train,\n",
    "        y_train,\n",
    "        batch_size=4000,\n",
    "        epochs=10,\n",
    "        verbose=1,\n",
    "        validation_data=(x_validate,y_validate),\n",
    "    )"
   ]
  },
  {
   "cell_type": "code",
   "execution_count": 49,
   "id": "2aabe613",
   "metadata": {},
   "outputs": [
    {
     "name": "stdout",
     "output_type": "stream",
     "text": [
      "Epoch 1/100\n",
      "9/9 [==============================] - 0s 20ms/step - loss: 0.5520 - accuracy: 0.8274 - val_loss: 0.3116 - val_accuracy: 0.9118\n",
      "Epoch 2/100\n",
      "9/9 [==============================] - 0s 15ms/step - loss: 0.5124 - accuracy: 0.8399 - val_loss: 0.2804 - val_accuracy: 0.9199\n",
      "Epoch 3/100\n",
      "9/9 [==============================] - 0s 15ms/step - loss: 0.4745 - accuracy: 0.8504 - val_loss: 0.2522 - val_accuracy: 0.9251\n",
      "Epoch 4/100\n",
      "9/9 [==============================] - 0s 15ms/step - loss: 0.4468 - accuracy: 0.8606 - val_loss: 0.2329 - val_accuracy: 0.9305\n",
      "Epoch 5/100\n",
      "9/9 [==============================] - 0s 16ms/step - loss: 0.4239 - accuracy: 0.8686 - val_loss: 0.2210 - val_accuracy: 0.9326\n",
      "Epoch 6/100\n",
      "9/9 [==============================] - 0s 15ms/step - loss: 0.3976 - accuracy: 0.8782 - val_loss: 0.2076 - val_accuracy: 0.9368\n",
      "Epoch 7/100\n",
      "9/9 [==============================] - 0s 15ms/step - loss: 0.3768 - accuracy: 0.8845 - val_loss: 0.1964 - val_accuracy: 0.9386\n",
      "Epoch 8/100\n",
      "9/9 [==============================] - 0s 15ms/step - loss: 0.3624 - accuracy: 0.8890 - val_loss: 0.1883 - val_accuracy: 0.9405\n",
      "Epoch 9/100\n",
      "9/9 [==============================] - 0s 15ms/step - loss: 0.3508 - accuracy: 0.8935 - val_loss: 0.1778 - val_accuracy: 0.9431\n",
      "Epoch 10/100\n",
      "9/9 [==============================] - 0s 15ms/step - loss: 0.3297 - accuracy: 0.8997 - val_loss: 0.1647 - val_accuracy: 0.9482\n",
      "Epoch 11/100\n",
      "9/9 [==============================] - 0s 15ms/step - loss: 0.3207 - accuracy: 0.9015 - val_loss: 0.1575 - val_accuracy: 0.9511\n",
      "Epoch 12/100\n",
      "9/9 [==============================] - 0s 15ms/step - loss: 0.3122 - accuracy: 0.9026 - val_loss: 0.1591 - val_accuracy: 0.9493\n",
      "Epoch 13/100\n",
      "9/9 [==============================] - 0s 15ms/step - loss: 0.3012 - accuracy: 0.9076 - val_loss: 0.1481 - val_accuracy: 0.9536\n",
      "Epoch 14/100\n",
      "9/9 [==============================] - 0s 16ms/step - loss: 0.2949 - accuracy: 0.9110 - val_loss: 0.1431 - val_accuracy: 0.9549\n",
      "Epoch 15/100\n",
      "9/9 [==============================] - 0s 15ms/step - loss: 0.2851 - accuracy: 0.9118 - val_loss: 0.1391 - val_accuracy: 0.9558\n",
      "Epoch 16/100\n",
      "9/9 [==============================] - 0s 15ms/step - loss: 0.2712 - accuracy: 0.9179 - val_loss: 0.1331 - val_accuracy: 0.9576\n",
      "Epoch 17/100\n",
      "9/9 [==============================] - 0s 15ms/step - loss: 0.2736 - accuracy: 0.9189 - val_loss: 0.1294 - val_accuracy: 0.9592\n",
      "Epoch 18/100\n",
      "9/9 [==============================] - 0s 15ms/step - loss: 0.2607 - accuracy: 0.9211 - val_loss: 0.1272 - val_accuracy: 0.9590\n",
      "Epoch 19/100\n",
      "9/9 [==============================] - 0s 15ms/step - loss: 0.2557 - accuracy: 0.9224 - val_loss: 0.1220 - val_accuracy: 0.9607\n",
      "Epoch 20/100\n",
      "9/9 [==============================] - 0s 15ms/step - loss: 0.2550 - accuracy: 0.9226 - val_loss: 0.1208 - val_accuracy: 0.9612\n",
      "Epoch 21/100\n",
      "9/9 [==============================] - 0s 15ms/step - loss: 0.2458 - accuracy: 0.9250 - val_loss: 0.1171 - val_accuracy: 0.9617\n",
      "Epoch 22/100\n",
      "9/9 [==============================] - 0s 15ms/step - loss: 0.2436 - accuracy: 0.9254 - val_loss: 0.1148 - val_accuracy: 0.9639\n",
      "Epoch 23/100\n",
      "9/9 [==============================] - 0s 15ms/step - loss: 0.2381 - accuracy: 0.9285 - val_loss: 0.1118 - val_accuracy: 0.9637\n",
      "Epoch 24/100\n",
      "9/9 [==============================] - 0s 15ms/step - loss: 0.2327 - accuracy: 0.9302 - val_loss: 0.1084 - val_accuracy: 0.9668\n",
      "Epoch 25/100\n",
      "9/9 [==============================] - 0s 15ms/step - loss: 0.2257 - accuracy: 0.9324 - val_loss: 0.1064 - val_accuracy: 0.9656\n",
      "Epoch 26/100\n",
      "9/9 [==============================] - 0s 15ms/step - loss: 0.2188 - accuracy: 0.9330 - val_loss: 0.1046 - val_accuracy: 0.9664\n",
      "Epoch 27/100\n",
      "9/9 [==============================] - 0s 15ms/step - loss: 0.2201 - accuracy: 0.9322 - val_loss: 0.1047 - val_accuracy: 0.9652\n",
      "Epoch 28/100\n",
      "9/9 [==============================] - 0s 15ms/step - loss: 0.2166 - accuracy: 0.9339 - val_loss: 0.1008 - val_accuracy: 0.9681\n",
      "Epoch 29/100\n",
      "9/9 [==============================] - 0s 15ms/step - loss: 0.2111 - accuracy: 0.9353 - val_loss: 0.0988 - val_accuracy: 0.9677\n",
      "Epoch 30/100\n",
      "9/9 [==============================] - 0s 15ms/step - loss: 0.2104 - accuracy: 0.9354 - val_loss: 0.0968 - val_accuracy: 0.9698\n",
      "Epoch 31/100\n",
      "9/9 [==============================] - 0s 15ms/step - loss: 0.2077 - accuracy: 0.9376 - val_loss: 0.0946 - val_accuracy: 0.9692\n",
      "Epoch 32/100\n",
      "9/9 [==============================] - 0s 15ms/step - loss: 0.2063 - accuracy: 0.9379 - val_loss: 0.0934 - val_accuracy: 0.9698\n",
      "Epoch 33/100\n",
      "9/9 [==============================] - 0s 15ms/step - loss: 0.2042 - accuracy: 0.9365 - val_loss: 0.0913 - val_accuracy: 0.9726\n",
      "Epoch 34/100\n",
      "9/9 [==============================] - 0s 15ms/step - loss: 0.1967 - accuracy: 0.9398 - val_loss: 0.0904 - val_accuracy: 0.9717\n",
      "Epoch 35/100\n",
      "9/9 [==============================] - 0s 15ms/step - loss: 0.1979 - accuracy: 0.9390 - val_loss: 0.0867 - val_accuracy: 0.9735\n",
      "Epoch 36/100\n",
      "9/9 [==============================] - 0s 16ms/step - loss: 0.1947 - accuracy: 0.9415 - val_loss: 0.0867 - val_accuracy: 0.9735\n",
      "Epoch 37/100\n",
      "9/9 [==============================] - 0s 15ms/step - loss: 0.1902 - accuracy: 0.9405 - val_loss: 0.0855 - val_accuracy: 0.9743\n",
      "Epoch 38/100\n",
      "9/9 [==============================] - 0s 15ms/step - loss: 0.1913 - accuracy: 0.9419 - val_loss: 0.0842 - val_accuracy: 0.9732\n",
      "Epoch 39/100\n",
      "9/9 [==============================] - 0s 15ms/step - loss: 0.1860 - accuracy: 0.9447 - val_loss: 0.0849 - val_accuracy: 0.9744\n",
      "Epoch 40/100\n",
      "9/9 [==============================] - 0s 15ms/step - loss: 0.1838 - accuracy: 0.9449 - val_loss: 0.0824 - val_accuracy: 0.9756\n",
      "Epoch 41/100\n",
      "9/9 [==============================] - 0s 15ms/step - loss: 0.1802 - accuracy: 0.9457 - val_loss: 0.0830 - val_accuracy: 0.9740\n",
      "Epoch 42/100\n",
      "9/9 [==============================] - 0s 15ms/step - loss: 0.1785 - accuracy: 0.9462 - val_loss: 0.0815 - val_accuracy: 0.9740\n",
      "Epoch 43/100\n",
      "9/9 [==============================] - 0s 15ms/step - loss: 0.1736 - accuracy: 0.9475 - val_loss: 0.0799 - val_accuracy: 0.9751\n",
      "Epoch 44/100\n",
      "9/9 [==============================] - 0s 15ms/step - loss: 0.1739 - accuracy: 0.9469 - val_loss: 0.0788 - val_accuracy: 0.9761\n",
      "Epoch 45/100\n",
      "9/9 [==============================] - 0s 15ms/step - loss: 0.1750 - accuracy: 0.9460 - val_loss: 0.0772 - val_accuracy: 0.9757\n",
      "Epoch 46/100\n",
      "9/9 [==============================] - 0s 15ms/step - loss: 0.1716 - accuracy: 0.9472 - val_loss: 0.0767 - val_accuracy: 0.9762\n",
      "Epoch 47/100\n",
      "9/9 [==============================] - 0s 15ms/step - loss: 0.1689 - accuracy: 0.9483 - val_loss: 0.0746 - val_accuracy: 0.9781\n",
      "Epoch 48/100\n",
      "9/9 [==============================] - 0s 15ms/step - loss: 0.1653 - accuracy: 0.9505 - val_loss: 0.0743 - val_accuracy: 0.9776\n",
      "Epoch 49/100\n",
      "9/9 [==============================] - 0s 15ms/step - loss: 0.1654 - accuracy: 0.9499 - val_loss: 0.0731 - val_accuracy: 0.9776\n",
      "Epoch 50/100\n",
      "9/9 [==============================] - 0s 15ms/step - loss: 0.1623 - accuracy: 0.9491 - val_loss: 0.0740 - val_accuracy: 0.9788\n",
      "Epoch 51/100\n",
      "9/9 [==============================] - 0s 15ms/step - loss: 0.1625 - accuracy: 0.9500 - val_loss: 0.0726 - val_accuracy: 0.9782\n",
      "Epoch 52/100\n",
      "9/9 [==============================] - 0s 15ms/step - loss: 0.1602 - accuracy: 0.9503 - val_loss: 0.0722 - val_accuracy: 0.9783\n",
      "Epoch 53/100\n",
      "9/9 [==============================] - 0s 15ms/step - loss: 0.1552 - accuracy: 0.9519 - val_loss: 0.0707 - val_accuracy: 0.9787\n",
      "Epoch 54/100\n",
      "9/9 [==============================] - 0s 16ms/step - loss: 0.1569 - accuracy: 0.9514 - val_loss: 0.0710 - val_accuracy: 0.9789\n",
      "Epoch 55/100\n",
      "9/9 [==============================] - 0s 15ms/step - loss: 0.1543 - accuracy: 0.9542 - val_loss: 0.0708 - val_accuracy: 0.9793\n",
      "Epoch 56/100\n",
      "9/9 [==============================] - 0s 16ms/step - loss: 0.1538 - accuracy: 0.9524 - val_loss: 0.0686 - val_accuracy: 0.9794\n",
      "Epoch 57/100\n",
      "9/9 [==============================] - 0s 15ms/step - loss: 0.1529 - accuracy: 0.9531 - val_loss: 0.0691 - val_accuracy: 0.9794\n",
      "Epoch 58/100\n",
      "9/9 [==============================] - 0s 15ms/step - loss: 0.1525 - accuracy: 0.9540 - val_loss: 0.0680 - val_accuracy: 0.9805\n",
      "Epoch 59/100\n",
      "9/9 [==============================] - 0s 15ms/step - loss: 0.1488 - accuracy: 0.9535 - val_loss: 0.0678 - val_accuracy: 0.9788\n",
      "Epoch 60/100\n",
      "9/9 [==============================] - 0s 16ms/step - loss: 0.1518 - accuracy: 0.9536 - val_loss: 0.0671 - val_accuracy: 0.9808\n",
      "Epoch 61/100\n",
      "9/9 [==============================] - 0s 15ms/step - loss: 0.1499 - accuracy: 0.9551 - val_loss: 0.0656 - val_accuracy: 0.9815\n",
      "Epoch 62/100\n",
      "9/9 [==============================] - 0s 15ms/step - loss: 0.1479 - accuracy: 0.9546 - val_loss: 0.0674 - val_accuracy: 0.9807\n",
      "Epoch 63/100\n",
      "9/9 [==============================] - 0s 15ms/step - loss: 0.1416 - accuracy: 0.9563 - val_loss: 0.0658 - val_accuracy: 0.9798\n",
      "Epoch 64/100\n",
      "9/9 [==============================] - 0s 15ms/step - loss: 0.1394 - accuracy: 0.9580 - val_loss: 0.0658 - val_accuracy: 0.9793\n",
      "Epoch 65/100\n",
      "9/9 [==============================] - 0s 16ms/step - loss: 0.1446 - accuracy: 0.9554 - val_loss: 0.0649 - val_accuracy: 0.9807\n",
      "Epoch 66/100\n",
      "9/9 [==============================] - 0s 15ms/step - loss: 0.1399 - accuracy: 0.9568 - val_loss: 0.0634 - val_accuracy: 0.9814\n",
      "Epoch 67/100\n",
      "9/9 [==============================] - 0s 16ms/step - loss: 0.1406 - accuracy: 0.9564 - val_loss: 0.0629 - val_accuracy: 0.9817\n",
      "Epoch 68/100\n",
      "9/9 [==============================] - 0s 15ms/step - loss: 0.1409 - accuracy: 0.9569 - val_loss: 0.0638 - val_accuracy: 0.9814\n",
      "Epoch 69/100\n",
      "9/9 [==============================] - 0s 15ms/step - loss: 0.1359 - accuracy: 0.9587 - val_loss: 0.0629 - val_accuracy: 0.9815\n",
      "Epoch 70/100\n",
      "9/9 [==============================] - 0s 15ms/step - loss: 0.1389 - accuracy: 0.9574 - val_loss: 0.0621 - val_accuracy: 0.9818\n",
      "Epoch 71/100\n",
      "9/9 [==============================] - 0s 15ms/step - loss: 0.1420 - accuracy: 0.9570 - val_loss: 0.0648 - val_accuracy: 0.9815\n",
      "Epoch 72/100\n",
      "9/9 [==============================] - 0s 15ms/step - loss: 0.1363 - accuracy: 0.9585 - val_loss: 0.0607 - val_accuracy: 0.9819\n",
      "Epoch 73/100\n",
      "9/9 [==============================] - 0s 15ms/step - loss: 0.1330 - accuracy: 0.9585 - val_loss: 0.0607 - val_accuracy: 0.9821\n",
      "Epoch 74/100\n",
      "9/9 [==============================] - 0s 15ms/step - loss: 0.1365 - accuracy: 0.9592 - val_loss: 0.0610 - val_accuracy: 0.9833\n",
      "Epoch 75/100\n",
      "9/9 [==============================] - 0s 15ms/step - loss: 0.1308 - accuracy: 0.9602 - val_loss: 0.0606 - val_accuracy: 0.9808\n",
      "Epoch 76/100\n",
      "9/9 [==============================] - 0s 15ms/step - loss: 0.1306 - accuracy: 0.9603 - val_loss: 0.0613 - val_accuracy: 0.9814\n",
      "Epoch 77/100\n",
      "9/9 [==============================] - 0s 15ms/step - loss: 0.1317 - accuracy: 0.9588 - val_loss: 0.0596 - val_accuracy: 0.9829\n",
      "Epoch 78/100\n",
      "9/9 [==============================] - 0s 15ms/step - loss: 0.1321 - accuracy: 0.9591 - val_loss: 0.0619 - val_accuracy: 0.9824\n",
      "Epoch 79/100\n",
      "9/9 [==============================] - 0s 15ms/step - loss: 0.1346 - accuracy: 0.9591 - val_loss: 0.0616 - val_accuracy: 0.9818\n",
      "Epoch 80/100\n",
      "9/9 [==============================] - 0s 16ms/step - loss: 0.1307 - accuracy: 0.9599 - val_loss: 0.0595 - val_accuracy: 0.9819\n",
      "Epoch 81/100\n",
      "9/9 [==============================] - 0s 15ms/step - loss: 0.1275 - accuracy: 0.9604 - val_loss: 0.0581 - val_accuracy: 0.9830\n",
      "Epoch 82/100\n",
      "9/9 [==============================] - 0s 15ms/step - loss: 0.1265 - accuracy: 0.9608 - val_loss: 0.0560 - val_accuracy: 0.9842\n",
      "Epoch 83/100\n",
      "9/9 [==============================] - 0s 15ms/step - loss: 0.1250 - accuracy: 0.9608 - val_loss: 0.0587 - val_accuracy: 0.9833\n",
      "Epoch 84/100\n",
      "9/9 [==============================] - 0s 15ms/step - loss: 0.1215 - accuracy: 0.9629 - val_loss: 0.0568 - val_accuracy: 0.9831\n",
      "Epoch 85/100\n",
      "9/9 [==============================] - 0s 15ms/step - loss: 0.1258 - accuracy: 0.9619 - val_loss: 0.0576 - val_accuracy: 0.9826\n",
      "Epoch 86/100\n",
      "9/9 [==============================] - 0s 15ms/step - loss: 0.1273 - accuracy: 0.9604 - val_loss: 0.0565 - val_accuracy: 0.9832\n",
      "Epoch 87/100\n",
      "9/9 [==============================] - 0s 16ms/step - loss: 0.1253 - accuracy: 0.9620 - val_loss: 0.0568 - val_accuracy: 0.9837\n",
      "Epoch 88/100\n",
      "9/9 [==============================] - 0s 15ms/step - loss: 0.1216 - accuracy: 0.9626 - val_loss: 0.0563 - val_accuracy: 0.9820\n",
      "Epoch 89/100\n",
      "9/9 [==============================] - 0s 15ms/step - loss: 0.1254 - accuracy: 0.9608 - val_loss: 0.0570 - val_accuracy: 0.9833\n",
      "Epoch 90/100\n",
      "9/9 [==============================] - 0s 15ms/step - loss: 0.1207 - accuracy: 0.9621 - val_loss: 0.0574 - val_accuracy: 0.9836\n",
      "Epoch 91/100\n",
      "9/9 [==============================] - 0s 15ms/step - loss: 0.1235 - accuracy: 0.9611 - val_loss: 0.0566 - val_accuracy: 0.9839\n",
      "Epoch 92/100\n",
      "9/9 [==============================] - 0s 15ms/step - loss: 0.1215 - accuracy: 0.9630 - val_loss: 0.0558 - val_accuracy: 0.9843\n",
      "Epoch 93/100\n",
      "9/9 [==============================] - 0s 16ms/step - loss: 0.1200 - accuracy: 0.9628 - val_loss: 0.0557 - val_accuracy: 0.9840\n",
      "Epoch 94/100\n",
      "9/9 [==============================] - 0s 15ms/step - loss: 0.1169 - accuracy: 0.9638 - val_loss: 0.0552 - val_accuracy: 0.9843\n",
      "Epoch 95/100\n",
      "9/9 [==============================] - 0s 15ms/step - loss: 0.1140 - accuracy: 0.9634 - val_loss: 0.0536 - val_accuracy: 0.9850\n",
      "Epoch 96/100\n",
      "9/9 [==============================] - 0s 15ms/step - loss: 0.1206 - accuracy: 0.9626 - val_loss: 0.0549 - val_accuracy: 0.9849\n",
      "Epoch 97/100\n",
      "9/9 [==============================] - 0s 15ms/step - loss: 0.1167 - accuracy: 0.9636 - val_loss: 0.0542 - val_accuracy: 0.9845\n",
      "Epoch 98/100\n",
      "9/9 [==============================] - 0s 15ms/step - loss: 0.1165 - accuracy: 0.9644 - val_loss: 0.0536 - val_accuracy: 0.9840\n",
      "Epoch 99/100\n",
      "9/9 [==============================] - 0s 14ms/step - loss: 0.1176 - accuracy: 0.9643 - val_loss: 0.0558 - val_accuracy: 0.9820\n",
      "Epoch 100/100\n",
      "9/9 [==============================] - 0s 15ms/step - loss: 0.1159 - accuracy: 0.9637 - val_loss: 0.0556 - val_accuracy: 0.9845\n"
     ]
    }
   ],
   "source": [
    "with tf.device('/GPU:0'):\n",
    "    history = cnn_model_small.fit(\n",
    "        x_train,\n",
    "        y_train,\n",
    "        batch_size=4000,\n",
    "        epochs=100,\n",
    "        verbose=1,\n",
    "        validation_data=(x_validate,y_validate),\n",
    "    )"
   ]
  },
  {
   "cell_type": "code",
   "execution_count": null,
   "id": "3b5fdefb",
   "metadata": {},
   "outputs": [],
   "source": []
  },
  {
   "cell_type": "code",
   "execution_count": 87,
   "id": "b859506a",
   "metadata": {},
   "outputs": [],
   "source": [
    "\n",
    "cnn_model_small = Sequential([\n",
    "    Conv2D(filters=5,kernel_size=3,activation='relu',input_shape = image_shape),\n",
    "    MaxPooling2D(pool_size=2) ,# down sampling the output instead of 28*28 it is 14*14\n",
    "    Dropout(0.2),\n",
    "    Flatten(), # flatten out the layers\n",
    "    Dense(32,activation='relu'),\n",
    "    Dense(10,activation = 'softmax')\n",
    "    \n",
    "])\n",
    "\n",
    "cnn_model_small.compile(loss ='sparse_categorical_crossentropy', optimizer=Adam(lr=0.001),metrics =['accuracy'])"
   ]
  },
  {
   "cell_type": "code",
   "execution_count": 94,
   "id": "9db367e4",
   "metadata": {},
   "outputs": [
    {
     "name": "stdout",
     "output_type": "stream",
     "text": [
      "Epoch 1/10\n",
      "32/34 [===========================>..] - ETA: 0s - loss: 2.1665 - accuracy: 0.1936"
     ]
    },
    {
     "name": "stderr",
     "output_type": "stream",
     "text": [
      "2023-05-12 07:30:02.249924: E tensorflow/core/grappler/optimizers/meta_optimizer.cc:1014] layout failed: INVALID_ARGUMENT: Size of values 0 does not match size of permutation 4 @ fanin shape insequential_17/dropout_17/dropout/SelectV2-2-TransposeNHWCToNCHW-LayoutOptimizer\n"
     ]
    },
    {
     "name": "stdout",
     "output_type": "stream",
     "text": [
      "34/34 [==============================] - 1s 8ms/step - loss: 2.1545 - accuracy: 0.1975 - val_loss: 1.7967 - val_accuracy: 0.3451\n",
      "Epoch 2/10\n",
      "34/34 [==============================] - 0s 4ms/step - loss: 1.6719 - accuracy: 0.3943 - val_loss: 1.2051 - val_accuracy: 0.6589\n",
      "Epoch 3/10\n",
      "34/34 [==============================] - 0s 4ms/step - loss: 1.2328 - accuracy: 0.5714 - val_loss: 0.7506 - val_accuracy: 0.7854\n",
      "Epoch 4/10\n",
      "34/34 [==============================] - 0s 5ms/step - loss: 0.9746 - accuracy: 0.6643 - val_loss: 0.5724 - val_accuracy: 0.8351\n",
      "Epoch 5/10\n",
      "34/34 [==============================] - 0s 4ms/step - loss: 0.8325 - accuracy: 0.7187 - val_loss: 0.4607 - val_accuracy: 0.8785\n",
      "Epoch 6/10\n",
      "34/34 [==============================] - 0s 4ms/step - loss: 0.7422 - accuracy: 0.7542 - val_loss: 0.3967 - val_accuracy: 0.8973\n",
      "Epoch 7/10\n",
      "34/34 [==============================] - 0s 4ms/step - loss: 0.6786 - accuracy: 0.7775 - val_loss: 0.3384 - val_accuracy: 0.9127\n",
      "Epoch 8/10\n",
      "34/34 [==============================] - 0s 4ms/step - loss: 0.6254 - accuracy: 0.7985 - val_loss: 0.3048 - val_accuracy: 0.9169\n",
      "Epoch 9/10\n",
      "34/34 [==============================] - 0s 4ms/step - loss: 0.5906 - accuracy: 0.8087 - val_loss: 0.2824 - val_accuracy: 0.9220\n",
      "Epoch 10/10\n",
      "34/34 [==============================] - 0s 4ms/step - loss: 0.5554 - accuracy: 0.8218 - val_loss: 0.2624 - val_accuracy: 0.9283\n"
     ]
    }
   ],
   "source": []
  },
  {
   "cell_type": "code",
   "execution_count": 85,
   "id": "409b45a0",
   "metadata": {},
   "outputs": [
    {
     "name": "stdout",
     "output_type": "stream",
     "text": [
      "Epoch 1/10\n",
      "34/34 [==============================] - 0s 7ms/step - loss: 0.0895 - accuracy: 0.9739 - val_loss: 0.0970 - val_accuracy: 0.9721\n",
      "Epoch 2/10\n",
      "34/34 [==============================] - 0s 5ms/step - loss: 0.0807 - accuracy: 0.9769 - val_loss: 0.0929 - val_accuracy: 0.9713\n",
      "Epoch 3/10\n",
      "34/34 [==============================] - 0s 6ms/step - loss: 0.0776 - accuracy: 0.9769 - val_loss: 0.0880 - val_accuracy: 0.9742\n",
      "Epoch 4/10\n",
      "34/34 [==============================] - 0s 6ms/step - loss: 0.0709 - accuracy: 0.9794 - val_loss: 0.0840 - val_accuracy: 0.9751\n",
      "Epoch 5/10\n",
      "34/34 [==============================] - 0s 5ms/step - loss: 0.0667 - accuracy: 0.9810 - val_loss: 0.0821 - val_accuracy: 0.9756\n",
      "Epoch 6/10\n",
      "34/34 [==============================] - 0s 5ms/step - loss: 0.0629 - accuracy: 0.9814 - val_loss: 0.0768 - val_accuracy: 0.9777\n",
      "Epoch 7/10\n",
      "34/34 [==============================] - 0s 5ms/step - loss: 0.0602 - accuracy: 0.9823 - val_loss: 0.0776 - val_accuracy: 0.9767\n",
      "Epoch 8/10\n",
      "34/34 [==============================] - 0s 5ms/step - loss: 0.0581 - accuracy: 0.9822 - val_loss: 0.0758 - val_accuracy: 0.9770\n",
      "Epoch 9/10\n",
      "34/34 [==============================] - 0s 6ms/step - loss: 0.0546 - accuracy: 0.9832 - val_loss: 0.0730 - val_accuracy: 0.9774\n",
      "Epoch 10/10\n",
      "34/34 [==============================] - 0s 5ms/step - loss: 0.0539 - accuracy: 0.9836 - val_loss: 0.0721 - val_accuracy: 0.9780\n"
     ]
    }
   ],
   "source": [
    "with tf.device('/GPU:0'):\n",
    "    history = cnn_model_big.fit(\n",
    "        x_train,\n",
    "        y_train,\n",
    "        batch_size=1000,\n",
    "        epochs=10,\n",
    "        verbose=1,\n",
    "        validation_data=(x_validate,y_validate),\n",
    "    )"
   ]
  },
  {
   "cell_type": "code",
   "execution_count": 59,
   "id": "b117e8b2",
   "metadata": {},
   "outputs": [
    {
     "name": "stdout",
     "output_type": "stream",
     "text": [
      "Epoch 1/10\n",
      "17/17 [==============================] - 1s 34ms/step - loss: 2.2997 - accuracy: 0.1242 - val_loss: 2.2937 - val_accuracy: 0.1223\n",
      "Epoch 2/10\n",
      "17/17 [==============================] - 0s 28ms/step - loss: 2.2837 - accuracy: 0.1400 - val_loss: 2.2633 - val_accuracy: 0.1625\n",
      "Epoch 3/10\n",
      "17/17 [==============================] - 0s 28ms/step - loss: 2.2357 - accuracy: 0.2345 - val_loss: 2.1864 - val_accuracy: 0.3746\n",
      "Epoch 4/10\n",
      "17/17 [==============================] - 0s 28ms/step - loss: 2.1338 - accuracy: 0.3871 - val_loss: 2.0454 - val_accuracy: 0.5196\n",
      "Epoch 5/10\n",
      "17/17 [==============================] - 0s 27ms/step - loss: 1.9675 - accuracy: 0.5100 - val_loss: 1.8371 - val_accuracy: 0.6057\n",
      "Epoch 6/10\n",
      "17/17 [==============================] - 0s 27ms/step - loss: 1.7396 - accuracy: 0.5922 - val_loss: 1.5804 - val_accuracy: 0.6869\n",
      "Epoch 7/10\n",
      "17/17 [==============================] - 0s 27ms/step - loss: 1.4911 - accuracy: 0.6518 - val_loss: 1.3268 - val_accuracy: 0.7260\n",
      "Epoch 8/10\n",
      "17/17 [==============================] - 0s 27ms/step - loss: 1.2692 - accuracy: 0.6865 - val_loss: 1.1146 - val_accuracy: 0.7612\n",
      "Epoch 9/10\n",
      "17/17 [==============================] - 0s 28ms/step - loss: 1.0983 - accuracy: 0.7099 - val_loss: 0.9543 - val_accuracy: 0.7782\n",
      "Epoch 10/10\n",
      "17/17 [==============================] - 0s 27ms/step - loss: 0.9685 - accuracy: 0.7335 - val_loss: 0.8374 - val_accuracy: 0.7961\n"
     ]
    }
   ],
   "source": [
    "with tf.device('/CPU:0'):\n",
    "    history = cnn_model.fit(\n",
    "        x_train,\n",
    "        y_train,\n",
    "        batch_size=2048,\n",
    "        epochs=10,\n",
    "        verbose=1,\n",
    "        validation_data=(x_validate,y_validate),\n",
    "    )"
   ]
  },
  {
   "cell_type": "code",
   "execution_count": 46,
   "id": "69e69ea5",
   "metadata": {},
   "outputs": [
    {
     "name": "stdout",
     "output_type": "stream",
     "text": [
      "Epoch 1/10\n",
      "34/34 [==============================] - 0s 6ms/step - loss: 6.2106e-04 - accuracy: 1.0000 - val_loss: 0.0755 - val_accuracy: 0.9851\n",
      "Epoch 2/10\n",
      "34/34 [==============================] - 0s 5ms/step - loss: 9.5650e-04 - accuracy: 0.9997 - val_loss: 0.0777 - val_accuracy: 0.9848\n",
      "Epoch 3/10\n",
      "34/34 [==============================] - 0s 5ms/step - loss: 0.0012 - accuracy: 0.9997 - val_loss: 0.0768 - val_accuracy: 0.9851\n",
      "Epoch 4/10\n",
      "34/34 [==============================] - 0s 5ms/step - loss: 9.5860e-04 - accuracy: 0.9997 - val_loss: 0.0770 - val_accuracy: 0.9851\n",
      "Epoch 5/10\n",
      "34/34 [==============================] - 0s 5ms/step - loss: 8.3605e-04 - accuracy: 0.9998 - val_loss: 0.0766 - val_accuracy: 0.9850\n",
      "Epoch 6/10\n",
      "34/34 [==============================] - 0s 5ms/step - loss: 7.4790e-04 - accuracy: 0.9998 - val_loss: 0.0775 - val_accuracy: 0.9851\n",
      "Epoch 7/10\n",
      "34/34 [==============================] - 0s 5ms/step - loss: 0.0012 - accuracy: 0.9996 - val_loss: 0.0782 - val_accuracy: 0.9849\n",
      "Epoch 8/10\n",
      "34/34 [==============================] - 0s 5ms/step - loss: 8.0210e-04 - accuracy: 0.9999 - val_loss: 0.0778 - val_accuracy: 0.9848\n",
      "Epoch 9/10\n",
      "34/34 [==============================] - 0s 5ms/step - loss: 9.4221e-04 - accuracy: 0.9999 - val_loss: 0.0793 - val_accuracy: 0.9845\n",
      "Epoch 10/10\n",
      "34/34 [==============================] - 0s 5ms/step - loss: 8.3781e-04 - accuracy: 0.9998 - val_loss: 0.0784 - val_accuracy: 0.9856\n"
     ]
    }
   ],
   "source": [
    "with tf.device('/GPU:0'):\n",
    "    history = cnn_model.fit(\n",
    "        x_train,\n",
    "        y_train,\n",
    "        batch_size=1000,\n",
    "        epochs=10,\n",
    "        verbose=1,\n",
    "        validation_data=(x_validate,y_validate),\n",
    "    )"
   ]
  },
  {
   "cell_type": "code",
   "execution_count": 55,
   "id": "09f97967",
   "metadata": {},
   "outputs": [
    {
     "name": "stdout",
     "output_type": "stream",
     "text": [
      "Epoch 1/10\n",
      "2/2 [==============================] - 0s 113ms/step - loss: 6.4763e-04 - accuracy: 0.9999 - val_loss: 0.0781 - val_accuracy: 0.9852\n",
      "Epoch 2/10\n",
      "2/2 [==============================] - 0s 77ms/step - loss: 6.1660e-04 - accuracy: 0.9999 - val_loss: 0.0782 - val_accuracy: 0.9851\n",
      "Epoch 3/10\n",
      "2/2 [==============================] - 0s 79ms/step - loss: 6.5709e-04 - accuracy: 0.9999 - val_loss: 0.0782 - val_accuracy: 0.9851\n",
      "Epoch 4/10\n",
      "2/2 [==============================] - 0s 76ms/step - loss: 7.4968e-04 - accuracy: 0.9999 - val_loss: 0.0783 - val_accuracy: 0.9850\n",
      "Epoch 5/10\n",
      "2/2 [==============================] - 0s 75ms/step - loss: 5.7256e-04 - accuracy: 0.9999 - val_loss: 0.0783 - val_accuracy: 0.9850\n",
      "Epoch 6/10\n",
      "2/2 [==============================] - 0s 75ms/step - loss: 0.0010 - accuracy: 0.9997 - val_loss: 0.0783 - val_accuracy: 0.9850\n",
      "Epoch 7/10\n",
      "2/2 [==============================] - 0s 75ms/step - loss: 7.5087e-04 - accuracy: 0.9998 - val_loss: 0.0782 - val_accuracy: 0.9850\n",
      "Epoch 8/10\n",
      "2/2 [==============================] - 0s 78ms/step - loss: 6.2170e-04 - accuracy: 0.9999 - val_loss: 0.0782 - val_accuracy: 0.9849\n",
      "Epoch 9/10\n",
      "2/2 [==============================] - 0s 77ms/step - loss: 6.5710e-04 - accuracy: 0.9999 - val_loss: 0.0781 - val_accuracy: 0.9850\n",
      "Epoch 10/10\n",
      "2/2 [==============================] - 0s 77ms/step - loss: 5.6052e-04 - accuracy: 0.9999 - val_loss: 0.0780 - val_accuracy: 0.9850\n"
     ]
    }
   ],
   "source": [
    "with tf.device('/GPU:0'):\n",
    "    history = cnn_model.fit(\n",
    "        x_train,\n",
    "        y_train,\n",
    "        batch_size=20000,\n",
    "        epochs=10,\n",
    "        verbose=1,\n",
    "        validation_data=(x_validate,y_validate),\n",
    "    )"
   ]
  },
  {
   "cell_type": "code",
   "execution_count": null,
   "id": "5443d1fa",
   "metadata": {
    "papermill": {
     "duration": 1.50182,
     "end_time": "2023-05-09T15:37:48.733723",
     "exception": false,
     "start_time": "2023-05-09T15:37:47.231903",
     "status": "completed"
    },
    "tags": []
   },
   "outputs": [],
   "source": [
    "import matplotlib.pyplot as plt\n",
    "\n",
    "class_names = [str(i) for i in range(10)]\n",
    "plt.figure(figsize=(10, 10))\n",
    "for i in range(36):\n",
    "    plt.subplot(6, 6, i + 1)\n",
    "    plt.xticks([])\n",
    "    plt.yticks([])\n",
    "    plt.grid(False)\n",
    "    plt.imshow(x_train[i].reshape((28,28)))\n",
    "    label_index = int(y_train[i])\n",
    "    plt.title(class_names[label_index])\n",
    "plt.show()"
   ]
  },
  {
   "cell_type": "code",
   "execution_count": null,
   "id": "e95ab15a",
   "metadata": {
    "papermill": {
     "duration": 0.069396,
     "end_time": "2023-05-09T15:37:48.860356",
     "exception": false,
     "start_time": "2023-05-09T15:37:48.790960",
     "status": "completed"
    },
    "tags": []
   },
   "outputs": [],
   "source": [
    "history.history.keys()\n"
   ]
  },
  {
   "cell_type": "code",
   "execution_count": null,
   "id": "c5c8d850",
   "metadata": {
    "papermill": {
     "duration": 0.48756,
     "end_time": "2023-05-09T15:37:49.405085",
     "exception": false,
     "start_time": "2023-05-09T15:37:48.917525",
     "status": "completed"
    },
    "tags": []
   },
   "outputs": [],
   "source": [
    "plt.figure(figsize=(10, 10))\n",
    "\n",
    "plt.subplot(2, 2, 1)\n",
    "plt.plot(history.history['loss'], label='Loss')\n",
    "plt.plot(history.history['val_loss'], label='Validation Loss')\n",
    "plt.legend()\n",
    "plt.title('Training - Loss Function')\n",
    "\n",
    "plt.subplot(2, 2, 2)\n",
    "plt.plot(history.history['accuracy'], label='Accuracy')\n",
    "plt.plot(history.history['val_accuracy'], label='Validation Accuracy')\n",
    "plt.legend()\n",
    "plt.title('Train - Accuracy')"
   ]
  },
  {
   "cell_type": "code",
   "execution_count": null,
   "id": "6b053d5a",
   "metadata": {
    "papermill": {
     "duration": 4.044594,
     "end_time": "2023-05-09T15:37:53.509289",
     "exception": false,
     "start_time": "2023-05-09T15:37:49.464695",
     "status": "completed"
    },
    "tags": []
   },
   "outputs": [],
   "source": [
    "cnn_array = cnn_model.predict(x_test)"
   ]
  },
  {
   "cell_type": "code",
   "execution_count": null,
   "id": "117cab5c",
   "metadata": {
    "papermill": {
     "duration": 0.129109,
     "end_time": "2023-05-09T15:37:53.701132",
     "exception": false,
     "start_time": "2023-05-09T15:37:53.572023",
     "status": "completed"
    },
    "tags": []
   },
   "outputs": [],
   "source": [
    "cnn_label_array = [np.argmax(cnn_array[i]) for i in range(len(cnn_array))]"
   ]
  },
  {
   "cell_type": "code",
   "execution_count": null,
   "id": "9f86e802",
   "metadata": {
    "papermill": {
     "duration": 0.148082,
     "end_time": "2023-05-09T15:37:53.925984",
     "exception": false,
     "start_time": "2023-05-09T15:37:53.777902",
     "status": "completed"
    },
    "tags": []
   },
   "outputs": [],
   "source": [
    "cnn_output_df = pd.DataFrame()\n",
    "cnn_output_df['Label'] = cnn_label_array\n",
    "cnn_output_df.index +=1\n",
    "cnn_output_df.index.name = \"ImageId\"\n",
    "cnn_output_df.to_csv('/kaggle/working/submission.csv')"
   ]
  },
  {
   "cell_type": "code",
   "execution_count": null,
   "id": "1a7ea6ca",
   "metadata": {
    "papermill": {
     "duration": 0.061803,
     "end_time": "2023-05-09T15:37:54.049572",
     "exception": false,
     "start_time": "2023-05-09T15:37:53.987769",
     "status": "completed"
    },
    "tags": []
   },
   "outputs": [],
   "source": []
  }
 ],
 "metadata": {
  "kernelspec": {
   "display_name": "Python 3 (ipykernel)",
   "language": "python",
   "name": "python3"
  },
  "language_info": {
   "codemirror_mode": {
    "name": "ipython",
    "version": 3
   },
   "file_extension": ".py",
   "mimetype": "text/x-python",
   "name": "python",
   "nbconvert_exporter": "python",
   "pygments_lexer": "ipython3",
   "version": "3.8.10"
  },
  "papermill": {
   "default_parameters": {},
   "duration": 847.839625,
   "end_time": "2023-05-09T15:37:57.159707",
   "environment_variables": {},
   "exception": null,
   "input_path": "__notebook__.ipynb",
   "output_path": "__notebook__.ipynb",
   "parameters": {},
   "start_time": "2023-05-09T15:23:49.320082",
   "version": "2.4.0"
  }
 },
 "nbformat": 4,
 "nbformat_minor": 5
}
